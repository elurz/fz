{
 "cells": [
  {
   "cell_type": "markdown",
   "id": "8c54f83a-99af-40a0-9197-65bee9098d89",
   "metadata": {},
   "source": [
    "### Нейронная сеть для классификации"
   ]
  },
  {
   "cell_type": "code",
   "execution_count": 1,
   "id": "9567f892-6c1d-490d-bb08-41df6347d177",
   "metadata": {},
   "outputs": [],
   "source": [
    "import pandas as pd\n",
    "import numpy as np\n",
    "import warnings\n",
    "warnings.filterwarnings('ignore')"
   ]
  },
  {
   "cell_type": "code",
   "execution_count": 2,
   "id": "2e7d50ac-87a7-4f66-bfac-224c112e2ec6",
   "metadata": {},
   "outputs": [
    {
     "data": {
      "text/plain": [
       "id                           int64\n",
       "subject             string[python]\n",
       "okpd_code                   object\n",
       "cost                         int64\n",
       "execution_period             int64\n",
       "data_final                  object\n",
       "price_per_day                int64\n",
       "dtype: object"
      ]
     },
     "execution_count": 2,
     "metadata": {},
     "output_type": "execute_result"
    }
   ],
   "source": [
    "# загружаем данные из csv файла\n",
    "df = pd.read_csv(r\"C:\\Users\\Admin\\Jupyter\\zakupki\\dataset_nlp_process.csv\",  on_bad_lines='skip', low_memory=False, sep=';') \n",
    "df['subject']  = df['subject'].astype('string')\n",
    "df['cost']  = df['cost'].astype('int64')\n",
    "df['okpd_code']  = df['okpd_code'].astype('string')\n",
    "df['okpd_code']  = df['okpd_code'].apply(lambda x: x.strip())\n",
    "df['price_per_day'] = (df['cost'] / df['execution_period']).astype('int64')\n",
    "df = df.drop('data', axis=1)\n",
    "df.dtypes"
   ]
  },
  {
   "cell_type": "code",
   "execution_count": 3,
   "id": "ffc57be8-69e6-4085-86be-3f5bfdee8a63",
   "metadata": {},
   "outputs": [
    {
     "data": {
      "text/html": [
       "<div>\n",
       "<style scoped>\n",
       "    .dataframe tbody tr th:only-of-type {\n",
       "        vertical-align: middle;\n",
       "    }\n",
       "\n",
       "    .dataframe tbody tr th {\n",
       "        vertical-align: top;\n",
       "    }\n",
       "\n",
       "    .dataframe thead th {\n",
       "        text-align: right;\n",
       "    }\n",
       "</style>\n",
       "<table border=\"1\" class=\"dataframe\">\n",
       "  <thead>\n",
       "    <tr style=\"text-align: right;\">\n",
       "      <th></th>\n",
       "      <th>id</th>\n",
       "      <th>subject</th>\n",
       "      <th>okpd_code</th>\n",
       "      <th>cost</th>\n",
       "      <th>execution_period</th>\n",
       "      <th>data_final</th>\n",
       "      <th>price_per_day</th>\n",
       "      <th>group</th>\n",
       "    </tr>\n",
       "  </thead>\n",
       "  <tbody>\n",
       "    <tr>\n",
       "      <th>0</th>\n",
       "      <td>27206446</td>\n",
       "      <td>приобретение нежилого здания, в целях осуществ...</td>\n",
       "      <td>41.2</td>\n",
       "      <td>18061000</td>\n",
       "      <td>1</td>\n",
       "      <td>['приобретен', 'нежил', 'здан', 'цел', 'осущес...</td>\n",
       "      <td>18061000</td>\n",
       "      <td>Строительно-монтажные работы</td>\n",
       "    </tr>\n",
       "    <tr>\n",
       "      <th>1</th>\n",
       "      <td>18675346</td>\n",
       "      <td>Выполнение работ по ремонту подъездов по адрес...</td>\n",
       "      <td>41.2</td>\n",
       "      <td>1740653</td>\n",
       "      <td>1</td>\n",
       "      <td>['выполнен', 'работ', 'ремонт', 'подъезд', 'ад...</td>\n",
       "      <td>1740653</td>\n",
       "      <td>Строительно-монтажные работы</td>\n",
       "    </tr>\n",
       "    <tr>\n",
       "      <th>2</th>\n",
       "      <td>22454818</td>\n",
       "      <td>Содержание автомобильных дорог местного значен...</td>\n",
       "      <td>42.1</td>\n",
       "      <td>35528286</td>\n",
       "      <td>1</td>\n",
       "      <td>['содержан', 'автомобильн', 'дорог', 'местн', ...</td>\n",
       "      <td>35528286</td>\n",
       "      <td>Строительно-монтажные работы</td>\n",
       "    </tr>\n",
       "    <tr>\n",
       "      <th>3</th>\n",
       "      <td>21437940</td>\n",
       "      <td>Ремонт автомобильной дороги,ул.2-я Пятилетка (...</td>\n",
       "      <td>42.1</td>\n",
       "      <td>976423</td>\n",
       "      <td>1</td>\n",
       "      <td>['ремонт', 'автомобильн', 'дорог', 'пятилетк',...</td>\n",
       "      <td>976423</td>\n",
       "      <td>Строительно-монтажные работы</td>\n",
       "    </tr>\n",
       "    <tr>\n",
       "      <th>4</th>\n",
       "      <td>4962120</td>\n",
       "      <td>Выполнение работ по ремонту коридора в здании ...</td>\n",
       "      <td>43.3</td>\n",
       "      <td>351157</td>\n",
       "      <td>1</td>\n",
       "      <td>['выполнен', 'работ', 'ремонт', 'коридор', 'зд...</td>\n",
       "      <td>351157</td>\n",
       "      <td>Строительно-монтажные работы</td>\n",
       "    </tr>\n",
       "  </tbody>\n",
       "</table>\n",
       "</div>"
      ],
      "text/plain": [
       "         id                                            subject okpd_code  \\\n",
       "0  27206446  приобретение нежилого здания, в целях осуществ...      41.2   \n",
       "1  18675346  Выполнение работ по ремонту подъездов по адрес...      41.2   \n",
       "2  22454818  Содержание автомобильных дорог местного значен...      42.1   \n",
       "3  21437940  Ремонт автомобильной дороги,ул.2-я Пятилетка (...      42.1   \n",
       "4   4962120  Выполнение работ по ремонту коридора в здании ...      43.3   \n",
       "\n",
       "       cost  execution_period  \\\n",
       "0  18061000                 1   \n",
       "1   1740653                 1   \n",
       "2  35528286                 1   \n",
       "3    976423                 1   \n",
       "4    351157                 1   \n",
       "\n",
       "                                          data_final  price_per_day  \\\n",
       "0  ['приобретен', 'нежил', 'здан', 'цел', 'осущес...       18061000   \n",
       "1  ['выполнен', 'работ', 'ремонт', 'подъезд', 'ад...        1740653   \n",
       "2  ['содержан', 'автомобильн', 'дорог', 'местн', ...       35528286   \n",
       "3  ['ремонт', 'автомобильн', 'дорог', 'пятилетк',...         976423   \n",
       "4  ['выполнен', 'работ', 'ремонт', 'коридор', 'зд...         351157   \n",
       "\n",
       "                          group  \n",
       "0  Строительно-монтажные работы  \n",
       "1  Строительно-монтажные работы  \n",
       "2  Строительно-монтажные работы  \n",
       "3  Строительно-монтажные работы  \n",
       "4  Строительно-монтажные работы  "
      ]
     },
     "execution_count": 3,
     "metadata": {},
     "output_type": "execute_result"
    }
   ],
   "source": [
    "#Делаем разбивку по группам на основании номеров ОКПД-2\n",
    "import re \n",
    "\n",
    "def match(templ, value):\n",
    "    try:\n",
    "      return re.search(f'^{templ}.', value) \n",
    "    except Exception as e:\n",
    "        print(f\"{type(e).__name__}: {e}\")\n",
    "        return False\n",
    "    \n",
    "def get_group(value):    \n",
    "    if (match('41', value) or match('42', value) or match('43', value)) and  value not in ('43.9', '42.9', '42.2', '43.2', '41.1', '71.1', '43.2'):  \n",
    "        return 'Строительно-монтажные работы'\n",
    "    elif value in ('41.1', '71.1'):  \n",
    "        return 'Проектно-изыскательские работы'\n",
    "    elif value in ('43.2'):  \n",
    "        return 'Подключение коммуникаций'\n",
    "    elif value in ('43.9', '42.9', '42.2'):  \n",
    "        return 'Строительный надзор'\n",
    "    else:\n",
    "        return 'Прочие'\n",
    "\n",
    "df['group'] = df['okpd_code'].apply(lambda x: get_group(x))\n",
    "df.head()"
   ]
  },
  {
   "cell_type": "code",
   "execution_count": 23,
   "id": "d7f887a3-22a3-4861-9a5f-1b90fbecce96",
   "metadata": {},
   "outputs": [
    {
     "data": {
      "text/plain": [
       "(949747, 700)"
      ]
     },
     "execution_count": 23,
     "metadata": {},
     "output_type": "execute_result"
    }
   ],
   "source": [
    "from sklearn.feature_extraction.text import TfidfVectorizer, CountVectorizer\n",
    "from sklearn.model_selection import train_test_split\n",
    "\n",
    "tfidf = TfidfVectorizer(max_features=700, min_df=5, max_df=0.7)\n",
    "\n",
    "X = df['data_final']\n",
    "tfidf_X = tfidf.fit_transform(X).toarray()\n",
    "tfidf_X.shape"
   ]
  },
  {
   "cell_type": "code",
   "execution_count": 6,
   "id": "198bcdcf-0f88-434f-b54b-a78190aeb89d",
   "metadata": {},
   "outputs": [
    {
     "data": {
      "text/html": [
       "<div>\n",
       "<style scoped>\n",
       "    .dataframe tbody tr th:only-of-type {\n",
       "        vertical-align: middle;\n",
       "    }\n",
       "\n",
       "    .dataframe tbody tr th {\n",
       "        vertical-align: top;\n",
       "    }\n",
       "\n",
       "    .dataframe thead th {\n",
       "        text-align: right;\n",
       "    }\n",
       "</style>\n",
       "<table border=\"1\" class=\"dataframe\">\n",
       "  <thead>\n",
       "    <tr style=\"text-align: right;\">\n",
       "      <th></th>\n",
       "      <th>Подключение коммуникаций</th>\n",
       "      <th>Проектно-изыскательские работы</th>\n",
       "      <th>Строительно-монтажные работы</th>\n",
       "      <th>Строительный надзор</th>\n",
       "    </tr>\n",
       "  </thead>\n",
       "  <tbody>\n",
       "    <tr>\n",
       "      <th>0</th>\n",
       "      <td>0</td>\n",
       "      <td>0</td>\n",
       "      <td>1</td>\n",
       "      <td>0</td>\n",
       "    </tr>\n",
       "    <tr>\n",
       "      <th>1</th>\n",
       "      <td>0</td>\n",
       "      <td>0</td>\n",
       "      <td>1</td>\n",
       "      <td>0</td>\n",
       "    </tr>\n",
       "    <tr>\n",
       "      <th>2</th>\n",
       "      <td>0</td>\n",
       "      <td>0</td>\n",
       "      <td>1</td>\n",
       "      <td>0</td>\n",
       "    </tr>\n",
       "    <tr>\n",
       "      <th>3</th>\n",
       "      <td>0</td>\n",
       "      <td>0</td>\n",
       "      <td>1</td>\n",
       "      <td>0</td>\n",
       "    </tr>\n",
       "  </tbody>\n",
       "</table>\n",
       "</div>"
      ],
      "text/plain": [
       "   Подключение коммуникаций  Проектно-изыскательские работы  \\\n",
       "0                         0                               0   \n",
       "1                         0                               0   \n",
       "2                         0                               0   \n",
       "3                         0                               0   \n",
       "\n",
       "   Строительно-монтажные работы  Строительный надзор  \n",
       "0                             1                    0  \n",
       "1                             1                    0  \n",
       "2                             1                    0  \n",
       "3                             1                    0  "
      ]
     },
     "execution_count": 6,
     "metadata": {},
     "output_type": "execute_result"
    }
   ],
   "source": [
    "from sklearn.preprocessing import OneHotEncoder\n",
    "\n",
    "onehotencoder = OneHotEncoder()\n",
    "data_new = onehotencoder.fit_transform(df['group'].values.astype('U').reshape(-1, 1))\n",
    "columns = np.char.strip(onehotencoder.categories_[0].astype('U'))\n",
    "df_one_hot_codes = pd.DataFrame(data_new.toarray(), columns=columns).astype('int64')\n",
    "df_one_hot_codes.head(4)"
   ]
  },
  {
   "cell_type": "code",
   "execution_count": 21,
   "id": "173df495-ba96-4d8d-99e3-24c89fe5a336",
   "metadata": {},
   "outputs": [],
   "source": [
    "y2 = np.array(df_one_hot_codes)"
   ]
  },
  {
   "cell_type": "code",
   "execution_count": 22,
   "id": "9cf2ddaf-8585-43ff-8b36-715fcc1c5074",
   "metadata": {},
   "outputs": [
    {
     "data": {
      "text/plain": [
       "array([[0, 0, 1, 0],\n",
       "       [0, 0, 1, 0],\n",
       "       [0, 0, 1, 0],\n",
       "       ...,\n",
       "       [0, 1, 0, 0],\n",
       "       [0, 1, 0, 0],\n",
       "       [0, 1, 0, 0]], dtype=int64)"
      ]
     },
     "execution_count": 22,
     "metadata": {},
     "output_type": "execute_result"
    }
   ],
   "source": [
    "y2"
   ]
  },
  {
   "cell_type": "code",
   "execution_count": 24,
   "id": "140027b8-61c5-49d1-9487-302ea83647f0",
   "metadata": {},
   "outputs": [
    {
     "name": "stdout",
     "output_type": "stream",
     "text": [
      "(664822, 700) (284925, 700)\n"
     ]
    }
   ],
   "source": [
    "X_train, X_test, y_train, y_test = train_test_split(tfidf_X, df_one_hot_codes, test_size=0.3)\n",
    "print(X_train.shape, X_test.shape)"
   ]
  },
  {
   "cell_type": "code",
   "execution_count": 25,
   "id": "f8332680-b7b2-4066-88f8-33a029c77785",
   "metadata": {},
   "outputs": [
    {
     "name": "stdout",
     "output_type": "stream",
     "text": [
      "(664822, 4) (284925, 4)\n"
     ]
    }
   ],
   "source": [
    "print(y_train.shape, y_test.shape)"
   ]
  },
  {
   "cell_type": "code",
   "execution_count": 26,
   "id": "05a9047f-ea38-43a9-a0f3-5e6bebd0891c",
   "metadata": {},
   "outputs": [
    {
     "data": {
      "text/html": [
       "<pre style=\"white-space:pre;overflow-x:auto;line-height:normal;font-family:Menlo,'DejaVu Sans Mono',consolas,'Courier New',monospace\"><span style=\"font-weight: bold\">Model: \"sequential_2\"</span>\n",
       "</pre>\n"
      ],
      "text/plain": [
       "\u001b[1mModel: \"sequential_2\"\u001b[0m\n"
      ]
     },
     "metadata": {},
     "output_type": "display_data"
    },
    {
     "data": {
      "text/html": [
       "<pre style=\"white-space:pre;overflow-x:auto;line-height:normal;font-family:Menlo,'DejaVu Sans Mono',consolas,'Courier New',monospace\">┏━━━━━━━━━━━━━━━━━━━━━━━━━━━━━━━━━━━━━━┳━━━━━━━━━━━━━━━━━━━━━━━━━━━━━┳━━━━━━━━━━━━━━━━━┓\n",
       "┃<span style=\"font-weight: bold\"> Layer (type)                         </span>┃<span style=\"font-weight: bold\"> Output Shape                </span>┃<span style=\"font-weight: bold\">         Param # </span>┃\n",
       "┡━━━━━━━━━━━━━━━━━━━━━━━━━━━━━━━━━━━━━━╇━━━━━━━━━━━━━━━━━━━━━━━━━━━━━╇━━━━━━━━━━━━━━━━━┩\n",
       "│ fc1 (<span style=\"color: #0087ff; text-decoration-color: #0087ff\">Dense</span>)                          │ (<span style=\"color: #00d7ff; text-decoration-color: #00d7ff\">None</span>, <span style=\"color: #00af00; text-decoration-color: #00af00\">700</span>)                 │         <span style=\"color: #00af00; text-decoration-color: #00af00\">490,700</span> │\n",
       "├──────────────────────────────────────┼─────────────────────────────┼─────────────────┤\n",
       "│ dropout_1 (<span style=\"color: #0087ff; text-decoration-color: #0087ff\">Dropout</span>)                  │ (<span style=\"color: #00d7ff; text-decoration-color: #00d7ff\">None</span>, <span style=\"color: #00af00; text-decoration-color: #00af00\">700</span>)                 │               <span style=\"color: #00af00; text-decoration-color: #00af00\">0</span> │\n",
       "├──────────────────────────────────────┼─────────────────────────────┼─────────────────┤\n",
       "│ fc3 (<span style=\"color: #0087ff; text-decoration-color: #0087ff\">Dense</span>)                          │ (<span style=\"color: #00d7ff; text-decoration-color: #00d7ff\">None</span>, <span style=\"color: #00af00; text-decoration-color: #00af00\">700</span>)                 │         <span style=\"color: #00af00; text-decoration-color: #00af00\">490,700</span> │\n",
       "├──────────────────────────────────────┼─────────────────────────────┼─────────────────┤\n",
       "│ fc4 (<span style=\"color: #0087ff; text-decoration-color: #0087ff\">Dense</span>)                          │ (<span style=\"color: #00d7ff; text-decoration-color: #00d7ff\">None</span>, <span style=\"color: #00af00; text-decoration-color: #00af00\">4</span>)                   │           <span style=\"color: #00af00; text-decoration-color: #00af00\">2,804</span> │\n",
       "└──────────────────────────────────────┴─────────────────────────────┴─────────────────┘\n",
       "</pre>\n"
      ],
      "text/plain": [
       "┏━━━━━━━━━━━━━━━━━━━━━━━━━━━━━━━━━━━━━━┳━━━━━━━━━━━━━━━━━━━━━━━━━━━━━┳━━━━━━━━━━━━━━━━━┓\n",
       "┃\u001b[1m \u001b[0m\u001b[1mLayer (type)                        \u001b[0m\u001b[1m \u001b[0m┃\u001b[1m \u001b[0m\u001b[1mOutput Shape               \u001b[0m\u001b[1m \u001b[0m┃\u001b[1m \u001b[0m\u001b[1m        Param #\u001b[0m\u001b[1m \u001b[0m┃\n",
       "┡━━━━━━━━━━━━━━━━━━━━━━━━━━━━━━━━━━━━━━╇━━━━━━━━━━━━━━━━━━━━━━━━━━━━━╇━━━━━━━━━━━━━━━━━┩\n",
       "│ fc1 (\u001b[38;5;33mDense\u001b[0m)                          │ (\u001b[38;5;45mNone\u001b[0m, \u001b[38;5;34m700\u001b[0m)                 │         \u001b[38;5;34m490,700\u001b[0m │\n",
       "├──────────────────────────────────────┼─────────────────────────────┼─────────────────┤\n",
       "│ dropout_1 (\u001b[38;5;33mDropout\u001b[0m)                  │ (\u001b[38;5;45mNone\u001b[0m, \u001b[38;5;34m700\u001b[0m)                 │               \u001b[38;5;34m0\u001b[0m │\n",
       "├──────────────────────────────────────┼─────────────────────────────┼─────────────────┤\n",
       "│ fc3 (\u001b[38;5;33mDense\u001b[0m)                          │ (\u001b[38;5;45mNone\u001b[0m, \u001b[38;5;34m700\u001b[0m)                 │         \u001b[38;5;34m490,700\u001b[0m │\n",
       "├──────────────────────────────────────┼─────────────────────────────┼─────────────────┤\n",
       "│ fc4 (\u001b[38;5;33mDense\u001b[0m)                          │ (\u001b[38;5;45mNone\u001b[0m, \u001b[38;5;34m4\u001b[0m)                   │           \u001b[38;5;34m2,804\u001b[0m │\n",
       "└──────────────────────────────────────┴─────────────────────────────┴─────────────────┘\n"
      ]
     },
     "metadata": {},
     "output_type": "display_data"
    },
    {
     "data": {
      "text/html": [
       "<pre style=\"white-space:pre;overflow-x:auto;line-height:normal;font-family:Menlo,'DejaVu Sans Mono',consolas,'Courier New',monospace\"><span style=\"font-weight: bold\"> Total params: </span><span style=\"color: #00af00; text-decoration-color: #00af00\">984,204</span> (3.75 MB)\n",
       "</pre>\n"
      ],
      "text/plain": [
       "\u001b[1m Total params: \u001b[0m\u001b[38;5;34m984,204\u001b[0m (3.75 MB)\n"
      ]
     },
     "metadata": {},
     "output_type": "display_data"
    },
    {
     "data": {
      "text/html": [
       "<pre style=\"white-space:pre;overflow-x:auto;line-height:normal;font-family:Menlo,'DejaVu Sans Mono',consolas,'Courier New',monospace\"><span style=\"font-weight: bold\"> Trainable params: </span><span style=\"color: #00af00; text-decoration-color: #00af00\">984,204</span> (3.75 MB)\n",
       "</pre>\n"
      ],
      "text/plain": [
       "\u001b[1m Trainable params: \u001b[0m\u001b[38;5;34m984,204\u001b[0m (3.75 MB)\n"
      ]
     },
     "metadata": {},
     "output_type": "display_data"
    },
    {
     "data": {
      "text/html": [
       "<pre style=\"white-space:pre;overflow-x:auto;line-height:normal;font-family:Menlo,'DejaVu Sans Mono',consolas,'Courier New',monospace\"><span style=\"font-weight: bold\"> Non-trainable params: </span><span style=\"color: #00af00; text-decoration-color: #00af00\">0</span> (0.00 B)\n",
       "</pre>\n"
      ],
      "text/plain": [
       "\u001b[1m Non-trainable params: \u001b[0m\u001b[38;5;34m0\u001b[0m (0.00 B)\n"
      ]
     },
     "metadata": {},
     "output_type": "display_data"
    }
   ],
   "source": [
    "import tensorflow as tf\n",
    "tf.random.set_seed(1)\n",
    "model_nn = tf.keras.models.Sequential([\n",
    "tf.keras.layers.InputLayer(shape=(700,)),\n",
    "tf.keras.layers.Dense(700, activation='sigmoid',name='fc1'),\n",
    "tf.keras.layers.Dropout(0.4),\n",
    "tf.keras.layers.Dense(700, activation='sigmoid',name='fc3'),\n",
    "# tf.keras.layers.BatchNormalization(),\n",
    "tf.keras.layers.Dense(4, name='fc4', activation='softmax')])\n",
    "# Компиляция модели\n",
    "model_nn.compile(optimizer='adam', loss='categorical_crossentropy', metrics=['accuracy'])\n",
    "# Вывод сводки\n",
    "model_nn.summary()"
   ]
  },
  {
   "cell_type": "code",
   "execution_count": 13,
   "id": "95532fc4-6b76-4335-8887-6c93821de38f",
   "metadata": {},
   "outputs": [],
   "source": [
    "import matplotlib.pyplot as plt\n",
    "plt.style.use('ggplot')\n",
    "\n",
    "# Функция компиляции и обучения модели нейронной сети\n",
    "def compile_train_model(model,\n",
    "                        x_train,\n",
    "                        y_train,\n",
    "                        x_val,\n",
    "                        y_val,\n",
    "                        optimizer='adam',\n",
    "                        epochs=50,\n",
    "                        batch_size=128,\n",
    "                        figsize=(20, 5)):\n",
    "\n",
    "    # Компиляция модели\n",
    "    model.compile(optimizer=optimizer,\n",
    "                  loss='categorical_crossentropy',\n",
    "                  metrics=['accuracy'])\n",
    "\n",
    "    # Вывод сводки\n",
    "    model.summary()\n",
    "\n",
    "    # Обучение модели с заданными параметрами\n",
    "    history = model.fit(x_train, y_train,\n",
    "                        epochs=epochs,\n",
    "                        batch_size=batch_size,\n",
    "                        validation_data=(x_val, y_val))\n",
    "\n",
    "    # Вывод графиков точности и ошибки\n",
    "    fig, (ax1, ax2) = plt.subplots(1, 2, figsize=figsize)\n",
    "    fig.suptitle('График процесса обучения модели')\n",
    "    ax1.plot(history.history['accuracy'],\n",
    "               label='Доля верных ответов на обучающем наборе')\n",
    "    ax1.plot(history.history['val_accuracy'],\n",
    "               label='Доля верных ответов на проверочном наборе')\n",
    "    ax1.xaxis.get_major_locator().set_params(integer=True)#Целочисленные координаты оси абсцисс установлены\n",
    "    ax1.set_xlabel('Эпоха обучения')\n",
    "    ax1.set_ylabel('Доля верных ответов')\n",
    "    ax1.legend()\n",
    "\n",
    "    ax2.plot(history.history['loss'],\n",
    "               label='Ошибка на обучающем наборе')\n",
    "    ax2.plot(history.history['val_loss'],\n",
    "               label='Ошибка на проверочном наборе')\n",
    "    ax2.xaxis.get_major_locator().set_params(integer=True)\n",
    "    ax2.set_xlabel('Эпоха обучения')\n",
    "    ax2.set_ylabel('Ошибка')\n",
    "    ax2.legend()\n",
    "    plt.show()"
   ]
  },
  {
   "cell_type": "code",
   "execution_count": 27,
   "id": "a27982f8-fcdc-479c-ad8d-7c5aa65c569d",
   "metadata": {},
   "outputs": [
    {
     "data": {
      "text/html": [
       "<pre style=\"white-space:pre;overflow-x:auto;line-height:normal;font-family:Menlo,'DejaVu Sans Mono',consolas,'Courier New',monospace\"><span style=\"font-weight: bold\">Model: \"sequential_2\"</span>\n",
       "</pre>\n"
      ],
      "text/plain": [
       "\u001b[1mModel: \"sequential_2\"\u001b[0m\n"
      ]
     },
     "metadata": {},
     "output_type": "display_data"
    },
    {
     "data": {
      "text/html": [
       "<pre style=\"white-space:pre;overflow-x:auto;line-height:normal;font-family:Menlo,'DejaVu Sans Mono',consolas,'Courier New',monospace\">┏━━━━━━━━━━━━━━━━━━━━━━━━━━━━━━━━━━━━━━┳━━━━━━━━━━━━━━━━━━━━━━━━━━━━━┳━━━━━━━━━━━━━━━━━┓\n",
       "┃<span style=\"font-weight: bold\"> Layer (type)                         </span>┃<span style=\"font-weight: bold\"> Output Shape                </span>┃<span style=\"font-weight: bold\">         Param # </span>┃\n",
       "┡━━━━━━━━━━━━━━━━━━━━━━━━━━━━━━━━━━━━━━╇━━━━━━━━━━━━━━━━━━━━━━━━━━━━━╇━━━━━━━━━━━━━━━━━┩\n",
       "│ fc1 (<span style=\"color: #0087ff; text-decoration-color: #0087ff\">Dense</span>)                          │ (<span style=\"color: #00d7ff; text-decoration-color: #00d7ff\">None</span>, <span style=\"color: #00af00; text-decoration-color: #00af00\">700</span>)                 │         <span style=\"color: #00af00; text-decoration-color: #00af00\">490,700</span> │\n",
       "├──────────────────────────────────────┼─────────────────────────────┼─────────────────┤\n",
       "│ dropout_1 (<span style=\"color: #0087ff; text-decoration-color: #0087ff\">Dropout</span>)                  │ (<span style=\"color: #00d7ff; text-decoration-color: #00d7ff\">None</span>, <span style=\"color: #00af00; text-decoration-color: #00af00\">700</span>)                 │               <span style=\"color: #00af00; text-decoration-color: #00af00\">0</span> │\n",
       "├──────────────────────────────────────┼─────────────────────────────┼─────────────────┤\n",
       "│ fc3 (<span style=\"color: #0087ff; text-decoration-color: #0087ff\">Dense</span>)                          │ (<span style=\"color: #00d7ff; text-decoration-color: #00d7ff\">None</span>, <span style=\"color: #00af00; text-decoration-color: #00af00\">700</span>)                 │         <span style=\"color: #00af00; text-decoration-color: #00af00\">490,700</span> │\n",
       "├──────────────────────────────────────┼─────────────────────────────┼─────────────────┤\n",
       "│ fc4 (<span style=\"color: #0087ff; text-decoration-color: #0087ff\">Dense</span>)                          │ (<span style=\"color: #00d7ff; text-decoration-color: #00d7ff\">None</span>, <span style=\"color: #00af00; text-decoration-color: #00af00\">4</span>)                   │           <span style=\"color: #00af00; text-decoration-color: #00af00\">2,804</span> │\n",
       "└──────────────────────────────────────┴─────────────────────────────┴─────────────────┘\n",
       "</pre>\n"
      ],
      "text/plain": [
       "┏━━━━━━━━━━━━━━━━━━━━━━━━━━━━━━━━━━━━━━┳━━━━━━━━━━━━━━━━━━━━━━━━━━━━━┳━━━━━━━━━━━━━━━━━┓\n",
       "┃\u001b[1m \u001b[0m\u001b[1mLayer (type)                        \u001b[0m\u001b[1m \u001b[0m┃\u001b[1m \u001b[0m\u001b[1mOutput Shape               \u001b[0m\u001b[1m \u001b[0m┃\u001b[1m \u001b[0m\u001b[1m        Param #\u001b[0m\u001b[1m \u001b[0m┃\n",
       "┡━━━━━━━━━━━━━━━━━━━━━━━━━━━━━━━━━━━━━━╇━━━━━━━━━━━━━━━━━━━━━━━━━━━━━╇━━━━━━━━━━━━━━━━━┩\n",
       "│ fc1 (\u001b[38;5;33mDense\u001b[0m)                          │ (\u001b[38;5;45mNone\u001b[0m, \u001b[38;5;34m700\u001b[0m)                 │         \u001b[38;5;34m490,700\u001b[0m │\n",
       "├──────────────────────────────────────┼─────────────────────────────┼─────────────────┤\n",
       "│ dropout_1 (\u001b[38;5;33mDropout\u001b[0m)                  │ (\u001b[38;5;45mNone\u001b[0m, \u001b[38;5;34m700\u001b[0m)                 │               \u001b[38;5;34m0\u001b[0m │\n",
       "├──────────────────────────────────────┼─────────────────────────────┼─────────────────┤\n",
       "│ fc3 (\u001b[38;5;33mDense\u001b[0m)                          │ (\u001b[38;5;45mNone\u001b[0m, \u001b[38;5;34m700\u001b[0m)                 │         \u001b[38;5;34m490,700\u001b[0m │\n",
       "├──────────────────────────────────────┼─────────────────────────────┼─────────────────┤\n",
       "│ fc4 (\u001b[38;5;33mDense\u001b[0m)                          │ (\u001b[38;5;45mNone\u001b[0m, \u001b[38;5;34m4\u001b[0m)                   │           \u001b[38;5;34m2,804\u001b[0m │\n",
       "└──────────────────────────────────────┴─────────────────────────────┴─────────────────┘\n"
      ]
     },
     "metadata": {},
     "output_type": "display_data"
    },
    {
     "data": {
      "text/html": [
       "<pre style=\"white-space:pre;overflow-x:auto;line-height:normal;font-family:Menlo,'DejaVu Sans Mono',consolas,'Courier New',monospace\"><span style=\"font-weight: bold\"> Total params: </span><span style=\"color: #00af00; text-decoration-color: #00af00\">984,204</span> (3.75 MB)\n",
       "</pre>\n"
      ],
      "text/plain": [
       "\u001b[1m Total params: \u001b[0m\u001b[38;5;34m984,204\u001b[0m (3.75 MB)\n"
      ]
     },
     "metadata": {},
     "output_type": "display_data"
    },
    {
     "data": {
      "text/html": [
       "<pre style=\"white-space:pre;overflow-x:auto;line-height:normal;font-family:Menlo,'DejaVu Sans Mono',consolas,'Courier New',monospace\"><span style=\"font-weight: bold\"> Trainable params: </span><span style=\"color: #00af00; text-decoration-color: #00af00\">984,204</span> (3.75 MB)\n",
       "</pre>\n"
      ],
      "text/plain": [
       "\u001b[1m Trainable params: \u001b[0m\u001b[38;5;34m984,204\u001b[0m (3.75 MB)\n"
      ]
     },
     "metadata": {},
     "output_type": "display_data"
    },
    {
     "data": {
      "text/html": [
       "<pre style=\"white-space:pre;overflow-x:auto;line-height:normal;font-family:Menlo,'DejaVu Sans Mono',consolas,'Courier New',monospace\"><span style=\"font-weight: bold\"> Non-trainable params: </span><span style=\"color: #00af00; text-decoration-color: #00af00\">0</span> (0.00 B)\n",
       "</pre>\n"
      ],
      "text/plain": [
       "\u001b[1m Non-trainable params: \u001b[0m\u001b[38;5;34m0\u001b[0m (0.00 B)\n"
      ]
     },
     "metadata": {},
     "output_type": "display_data"
    },
    {
     "name": "stdout",
     "output_type": "stream",
     "text": [
      "Epoch 1/15\n",
      "\u001b[1m13297/13297\u001b[0m \u001b[32m━━━━━━━━━━━━━━━━━━━━\u001b[0m\u001b[37m\u001b[0m \u001b[1m87s\u001b[0m 6ms/step - accuracy: 0.7313 - loss: 0.6888 - val_accuracy: 0.8026 - val_loss: 0.5262\n",
      "Epoch 2/15\n",
      "\u001b[1m13297/13297\u001b[0m \u001b[32m━━━━━━━━━━━━━━━━━━━━\u001b[0m\u001b[37m\u001b[0m \u001b[1m86s\u001b[0m 6ms/step - accuracy: 0.7998 - loss: 0.5321 - val_accuracy: 0.8053 - val_loss: 0.5108\n",
      "Epoch 3/15\n",
      "\u001b[1m13297/13297\u001b[0m \u001b[32m━━━━━━━━━━━━━━━━━━━━\u001b[0m\u001b[37m\u001b[0m \u001b[1m86s\u001b[0m 6ms/step - accuracy: 0.8058 - loss: 0.5131 - val_accuracy: 0.8077 - val_loss: 0.5008\n",
      "Epoch 4/15\n",
      "\u001b[1m13297/13297\u001b[0m \u001b[32m━━━━━━━━━━━━━━━━━━━━\u001b[0m\u001b[37m\u001b[0m \u001b[1m86s\u001b[0m 6ms/step - accuracy: 0.8084 - loss: 0.5025 - val_accuracy: 0.8099 - val_loss: 0.4926\n",
      "Epoch 5/15\n",
      "\u001b[1m13297/13297\u001b[0m \u001b[32m━━━━━━━━━━━━━━━━━━━━\u001b[0m\u001b[37m\u001b[0m \u001b[1m86s\u001b[0m 6ms/step - accuracy: 0.8111 - loss: 0.4936 - val_accuracy: 0.8126 - val_loss: 0.4855\n",
      "Epoch 6/15\n",
      "\u001b[1m13297/13297\u001b[0m \u001b[32m━━━━━━━━━━━━━━━━━━━━\u001b[0m\u001b[37m\u001b[0m \u001b[1m88s\u001b[0m 7ms/step - accuracy: 0.8141 - loss: 0.4858 - val_accuracy: 0.8145 - val_loss: 0.4809\n",
      "Epoch 7/15\n",
      "\u001b[1m13297/13297\u001b[0m \u001b[32m━━━━━━━━━━━━━━━━━━━━\u001b[0m\u001b[37m\u001b[0m \u001b[1m88s\u001b[0m 7ms/step - accuracy: 0.8174 - loss: 0.4785 - val_accuracy: 0.8167 - val_loss: 0.4752\n",
      "Epoch 8/15\n",
      "\u001b[1m13297/13297\u001b[0m \u001b[32m━━━━━━━━━━━━━━━━━━━━\u001b[0m\u001b[37m\u001b[0m \u001b[1m90s\u001b[0m 7ms/step - accuracy: 0.8192 - loss: 0.4722 - val_accuracy: 0.8196 - val_loss: 0.4685\n",
      "Epoch 9/15\n",
      "\u001b[1m13297/13297\u001b[0m \u001b[32m━━━━━━━━━━━━━━━━━━━━\u001b[0m\u001b[37m\u001b[0m \u001b[1m89s\u001b[0m 7ms/step - accuracy: 0.8214 - loss: 0.4653 - val_accuracy: 0.8211 - val_loss: 0.4647\n",
      "Epoch 10/15\n",
      "\u001b[1m13297/13297\u001b[0m \u001b[32m━━━━━━━━━━━━━━━━━━━━\u001b[0m\u001b[37m\u001b[0m \u001b[1m89s\u001b[0m 7ms/step - accuracy: 0.8237 - loss: 0.4598 - val_accuracy: 0.8223 - val_loss: 0.4609\n",
      "Epoch 11/15\n",
      "\u001b[1m13297/13297\u001b[0m \u001b[32m━━━━━━━━━━━━━━━━━━━━\u001b[0m\u001b[37m\u001b[0m \u001b[1m87s\u001b[0m 7ms/step - accuracy: 0.8256 - loss: 0.4549 - val_accuracy: 0.8240 - val_loss: 0.4564\n",
      "Epoch 12/15\n",
      "\u001b[1m13297/13297\u001b[0m \u001b[32m━━━━━━━━━━━━━━━━━━━━\u001b[0m\u001b[37m\u001b[0m \u001b[1m88s\u001b[0m 7ms/step - accuracy: 0.8273 - loss: 0.4500 - val_accuracy: 0.8255 - val_loss: 0.4531\n",
      "Epoch 13/15\n",
      "\u001b[1m13297/13297\u001b[0m \u001b[32m━━━━━━━━━━━━━━━━━━━━\u001b[0m\u001b[37m\u001b[0m \u001b[1m88s\u001b[0m 7ms/step - accuracy: 0.8293 - loss: 0.4450 - val_accuracy: 0.8265 - val_loss: 0.4506\n",
      "Epoch 14/15\n",
      "\u001b[1m13297/13297\u001b[0m \u001b[32m━━━━━━━━━━━━━━━━━━━━\u001b[0m\u001b[37m\u001b[0m \u001b[1m89s\u001b[0m 7ms/step - accuracy: 0.8307 - loss: 0.4400 - val_accuracy: 0.8279 - val_loss: 0.4469\n",
      "Epoch 15/15\n",
      "\u001b[1m13297/13297\u001b[0m \u001b[32m━━━━━━━━━━━━━━━━━━━━\u001b[0m\u001b[37m\u001b[0m \u001b[1m88s\u001b[0m 7ms/step - accuracy: 0.8328 - loss: 0.4356 - val_accuracy: 0.8285 - val_loss: 0.4457\n"
     ]
    },
    {
     "data": {
      "image/png": "[encoded data removed]",
      "text/plain": [
       "<Figure size 2000x500 with 2 Axes>"
      ]
     },
     "metadata": {},
     "output_type": "display_data"
    }
   ],
   "source": [
    "compile_train_model(model=model_nn, x_train=X_train, y_train=y_train, \n",
    "                    x_val=X_test, y_val=y_test,\n",
    "                    epochs=15,\n",
    "                    batch_size=50,\n",
    "                    figsize=(20, 5))"
   ]
  },
  {
   "cell_type": "code",
   "execution_count": 31,
   "id": "990ccfbc-04cf-4c05-ab59-2f004d0d8589",
   "metadata": {},
   "outputs": [],
   "source": [
    "model_nn.save('model_nn.keras')"
   ]
  }
 ],
 "metadata": {
  "kernelspec": {
   "display_name": "Python 3 (ipykernel)",
   "language": "python",
   "name": "python3"
  },
  "language_info": {
   "codemirror_mode": {
    "name": "ipython",
    "version": 3
   },
   "file_extension": ".py",
   "mimetype": "text/x-python",
   "name": "python",
   "nbconvert_exporter": "python",
   "pygments_lexer": "ipython3",
   "version": "3.12.4"
  }
 },
 "nbformat": 4,
 "nbformat_minor": 5
}
